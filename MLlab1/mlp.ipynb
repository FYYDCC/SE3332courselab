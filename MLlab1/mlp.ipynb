{
 "cells": [
  {
   "cell_type": "code",
   "execution_count": 1,
   "id": "a4b1284d",
   "metadata": {},
   "outputs": [],
   "source": [
    "import torch\n",
    "import torch.nn as nn\n",
    "import torch.optim as optim\n",
    "import numpy as np\n",
    "import time\n"
   ]
  },
  {
   "cell_type": "code",
   "execution_count": 2,
   "id": "d34095c7",
   "metadata": {},
   "outputs": [],
   "source": [
    "# Define a custom MLP model\n",
    "class MLP(nn.Module):\n",
    "    def __init__(self, input_size, hidden_size, num_classes):\n",
    "        super(MLP, self).__init__()\n",
    "        self.fc1 = nn.Linear(input_size, hidden_size)\n",
    "        self.relu = nn.ReLU()\n",
    "        self.fc2 = nn.Linear(hidden_size, num_classes)\n",
    "\n",
    "    def forward(self, x):\n",
    "        out = self.fc1(x)\n",
    "        out = self.relu(out)\n",
    "        out = self.fc2(out)\n",
    "        return out"
   ]
  },
  {
   "cell_type": "code",
   "execution_count": 3,
   "id": "1e814250",
   "metadata": {},
   "outputs": [],
   "source": [
    "# Load your dataset\n",
    "X_train = np.loadtxt(\"C:/Users/86135/Desktop/MLlab1/lab1_dataset/lab1_dataset/X_train.csv\", delimiter=\",\",skiprows=1)\n",
    "X_test = np.loadtxt(\"C:/Users/86135/Desktop/MLlab1/lab1_dataset/lab1_dataset/X_test.csv\", delimiter=\",\",skiprows=1)\n",
    "Y_train = np.loadtxt(\"C:/Users/86135/Desktop/MLlab1/lab1_dataset/lab1_dataset/Y_train.csv\", delimiter=\",\",skiprows=1)\n",
    "Y_test = np.loadtxt(\"C:/Users/86135/Desktop/MLlab1/lab1_dataset/lab1_dataset/Y_test.csv\", delimiter=\",\",skiprows=1)"
   ]
  },
  {
   "cell_type": "code",
   "execution_count": 4,
   "id": "8e48fcc2",
   "metadata": {},
   "outputs": [],
   "source": [
    "def scale_features(X):\n",
    "    mean = np.mean(X, axis=0)\n",
    "    std = np.std(X, axis=0)\n",
    "    X_scaled = (X - mean) / std\n",
    "    return X_scaled"
   ]
  },
  {
   "cell_type": "code",
   "execution_count": 5,
   "id": "62d0b480",
   "metadata": {},
   "outputs": [],
   "source": [
    "X_train = scale_features(X_train)\n",
    "X_test = scale_features(X_test)\n",
    "\n",
    "# Convert data to PyTorch tensors\n",
    "X_train = torch.FloatTensor(X_train)\n",
    "X_test = torch.FloatTensor(X_test)\n",
    "Y_train = torch.LongTensor(Y_train)\n",
    "Y_test = torch.LongTensor(Y_test)\n"
   ]
  },
  {
   "cell_type": "code",
   "execution_count": 18,
   "id": "c0ab5a5a",
   "metadata": {},
   "outputs": [],
   "source": [
    "# Initialize the MLP model\n",
    "input_size = X_train.shape[1]\n",
    "hidden_size = 128\n",
    "num_classes = len(torch.unique(Y_train))\n",
    "model = MLP(input_size, hidden_size, num_classes)\n",
    "\n",
    "# Define loss and optimizer\n",
    "criterion = nn.CrossEntropyLoss()\n",
    "optimizer = optim.SGD(model.parameters(), lr=0.001)"
   ]
  },
  {
   "cell_type": "code",
   "execution_count": 19,
   "id": "dd7a59b7",
   "metadata": {},
   "outputs": [
    {
     "name": "stdout",
     "output_type": "stream",
     "text": [
      "Epoch [100/5000], Loss: 0.6337\n",
      "Epoch [200/5000], Loss: 0.5420\n",
      "Epoch [300/5000], Loss: 0.4820\n",
      "Epoch [400/5000], Loss: 0.4394\n",
      "Epoch [500/5000], Loss: 0.4074\n",
      "Epoch [600/5000], Loss: 0.3824\n",
      "Epoch [700/5000], Loss: 0.3622\n",
      "Epoch [800/5000], Loss: 0.3454\n",
      "Epoch [900/5000], Loss: 0.3312\n",
      "Epoch [1000/5000], Loss: 0.3190\n",
      "Epoch [1100/5000], Loss: 0.3083\n",
      "Epoch [1200/5000], Loss: 0.2988\n",
      "Epoch [1300/5000], Loss: 0.2904\n",
      "Epoch [1400/5000], Loss: 0.2828\n",
      "Epoch [1500/5000], Loss: 0.2759\n",
      "Epoch [1600/5000], Loss: 0.2697\n",
      "Epoch [1700/5000], Loss: 0.2639\n",
      "Epoch [1800/5000], Loss: 0.2586\n",
      "Epoch [1900/5000], Loss: 0.2537\n",
      "Epoch [2000/5000], Loss: 0.2491\n",
      "Epoch [2100/5000], Loss: 0.2448\n",
      "Epoch [2200/5000], Loss: 0.2408\n",
      "Epoch [2300/5000], Loss: 0.2371\n",
      "Epoch [2400/5000], Loss: 0.2335\n",
      "Epoch [2500/5000], Loss: 0.2302\n",
      "Epoch [2600/5000], Loss: 0.2270\n",
      "Epoch [2700/5000], Loss: 0.2240\n",
      "Epoch [2800/5000], Loss: 0.2211\n",
      "Epoch [2900/5000], Loss: 0.2184\n",
      "Epoch [3000/5000], Loss: 0.2158\n",
      "Epoch [3100/5000], Loss: 0.2133\n",
      "Epoch [3200/5000], Loss: 0.2109\n",
      "Epoch [3300/5000], Loss: 0.2086\n",
      "Epoch [3400/5000], Loss: 0.2064\n",
      "Epoch [3500/5000], Loss: 0.2043\n",
      "Epoch [3600/5000], Loss: 0.2023\n",
      "Epoch [3700/5000], Loss: 0.2003\n",
      "Epoch [3800/5000], Loss: 0.1985\n",
      "Epoch [3900/5000], Loss: 0.1966\n",
      "Epoch [4000/5000], Loss: 0.1949\n",
      "Epoch [4100/5000], Loss: 0.1932\n",
      "Epoch [4200/5000], Loss: 0.1915\n",
      "Epoch [4300/5000], Loss: 0.1900\n",
      "Epoch [4400/5000], Loss: 0.1884\n",
      "Epoch [4500/5000], Loss: 0.1869\n",
      "Epoch [4600/5000], Loss: 0.1855\n",
      "Epoch [4700/5000], Loss: 0.1841\n",
      "Epoch [4800/5000], Loss: 0.1827\n",
      "Epoch [4900/5000], Loss: 0.1814\n",
      "Epoch [5000/5000], Loss: 0.1801\n",
      "Final Training Accuracy: 0.9450\n",
      "Training time: 9.011898279190063 seconds\n",
      "Test accuracy: 0.91\n"
     ]
    }
   ],
   "source": [
    "# Training the MLP\n",
    "num_epochs = 5000\n",
    "\n",
    "start_time = time.time()\n",
    "for epoch in range(num_epochs):\n",
    "    # Forward pass\n",
    "    outputs = model(X_train)\n",
    "    loss = criterion(outputs, Y_train)\n",
    "\n",
    "    # Backward pass and optimization\n",
    "    optimizer.zero_grad()\n",
    "    loss.backward()\n",
    "    optimizer.step()\n",
    "\n",
    "    if (epoch + 1) % 100 == 0:\n",
    "        print(f'Epoch [{epoch + 1}/{num_epochs}], Loss: {loss.item():.4f}')\n",
    "        \n",
    "with torch.no_grad():\n",
    "    _, predicted = torch.max(outputs, 1)\n",
    "    final_training_accuracy = (predicted == Y_train).sum().item() / Y_train.size(0)\n",
    "    print(f'Final Training Accuracy: {final_training_accuracy:.4f}')\n",
    "\n",
    "training_time = time.time() - start_time\n",
    "\n",
    "# Testing the MLP\n",
    "model.eval()\n",
    "with torch.no_grad():\n",
    "    outputs = model(X_test)\n",
    "    _, predicted = torch.max(outputs, 1)\n",
    "\n",
    "# Calculate test accuracy\n",
    "test_accuracy = (predicted == Y_test).sum().item() / Y_test.size(0)\n",
    "\n",
    "\n",
    "print(\"Training time:\", training_time, \"seconds\")\n",
    "print(\"Test accuracy:\", test_accuracy)"
   ]
  },
  {
   "cell_type": "code",
   "execution_count": null,
   "id": "c3211271",
   "metadata": {},
   "outputs": [],
   "source": []
  }
 ],
 "metadata": {
  "kernelspec": {
   "display_name": "myenv",
   "language": "python",
   "name": "myenv"
  },
  "language_info": {
   "codemirror_mode": {
    "name": "ipython",
    "version": 3
   },
   "file_extension": ".py",
   "mimetype": "text/x-python",
   "name": "python",
   "nbconvert_exporter": "python",
   "pygments_lexer": "ipython3",
   "version": "3.9.18"
  }
 },
 "nbformat": 4,
 "nbformat_minor": 5
}
