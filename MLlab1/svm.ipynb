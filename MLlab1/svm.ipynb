{
 "cells": [
  {
   "cell_type": "code",
   "execution_count": 38,
   "id": "67ea41d8",
   "metadata": {},
   "outputs": [],
   "source": [
    "import numpy as np\n",
    "import time"
   ]
  },
  {
   "cell_type": "code",
   "execution_count": 39,
   "id": "fe4ce424",
   "metadata": {},
   "outputs": [],
   "source": [
    "X_train = np.loadtxt(\"C:/Users/86135/Desktop/MLlab1/lab1_dataset/lab1_dataset/X_train.csv\", delimiter=\",\",skiprows=1)\n",
    "X_test = np.loadtxt(\"C:/Users/86135/Desktop/MLlab1/lab1_dataset/lab1_dataset/X_test.csv\", delimiter=\",\",skiprows=1)\n",
    "Y_train = np.loadtxt(\"C:/Users/86135/Desktop/MLlab1/lab1_dataset/lab1_dataset/Y_train.csv\", delimiter=\",\",skiprows=1)\n",
    "Y_test = np.loadtxt(\"C:/Users/86135/Desktop/MLlab1/lab1_dataset/lab1_dataset/Y_test.csv\", delimiter=\",\",skiprows=1)"
   ]
  },
  {
   "cell_type": "code",
   "execution_count": 40,
   "id": "360b4fca",
   "metadata": {},
   "outputs": [],
   "source": [
    "def scale_features(X):\n",
    "    mean = np.mean(X, axis=0)\n",
    "    std = np.std(X, axis=0)\n",
    "    X_scaled = (X - mean) / std\n",
    "    return X_scaled"
   ]
  },
  {
   "cell_type": "code",
   "execution_count": 41,
   "id": "485cb62c",
   "metadata": {},
   "outputs": [],
   "source": [
    "X_train = scale_features(X_train)\n",
    "X_test = scale_features(X_test)"
   ]
  },
  {
   "cell_type": "code",
   "execution_count": 42,
   "id": "23343521",
   "metadata": {},
   "outputs": [],
   "source": [
    "# SVM loss and gradient functions\n",
    "def svm_loss(W, X, y, C):\n",
    "    m = X.shape[0]\n",
    "    scores = np.dot(X, W)\n",
    "    correct_scores = scores[np.arange(m), y]\n",
    "    margins = np.maximum(0, scores - correct_scores[:, np.newaxis] + 1)\n",
    "    margins[np.arange(m), y] = 0\n",
    "    loss = np.mean(np.sum(margins, axis=1))\n",
    "    loss += 0.5 * C * np.sum(W * W)\n",
    "    return loss"
   ]
  },
  {
   "cell_type": "code",
   "execution_count": 61,
   "id": "66dc8aba",
   "metadata": {},
   "outputs": [],
   "source": [
    "def svm_gradient(W, X, y, C):\n",
    "    m = X.shape[0]\n",
    "    scores = np.dot(X, W)\n",
    "    correct_scores = scores[np.arange(m), y]\n",
    "    margins = np.maximum(0, scores - correct_scores[:, np.newaxis] + 1)\n",
    "    margins[np.arange(m), y] = 0\n",
    "    margins[margins > 0] = 1\n",
    "    row_sum = np.sum(margins, axis=1)\n",
    "    margins[np.arange(m), y] = -row_sum\n",
    "    gradient = np.dot(X.T, margins) / m\n",
    "    gradient += C * W\n",
    "    return gradient"
   ]
  },
  {
   "cell_type": "code",
   "execution_count": 77,
   "id": "29fd1bb5",
   "metadata": {},
   "outputs": [],
   "source": [
    "learning_rate = 0.005\n",
    "num_iterations = 5000\n",
    "convergence_threshold = 1e-8\n",
    "C = 0.001  # SVM regularization parameter"
   ]
  },
  {
   "cell_type": "code",
   "execution_count": 78,
   "id": "3b187da9",
   "metadata": {},
   "outputs": [],
   "source": [
    "W = np.zeros((X_train.shape[1], len(np.unique(Y_train))))"
   ]
  },
  {
   "cell_type": "code",
   "execution_count": 79,
   "id": "87366f6f",
   "metadata": {},
   "outputs": [
    {
     "name": "stdout",
     "output_type": "stream",
     "text": [
      "Training time: 0.4269998073577881 seconds\n",
      "Test accuracy: 0.9\n",
      "Train accuracy: 0.915\n"
     ]
    }
   ],
   "source": [
    "start_time = time.time()\n",
    "Y_train = Y_train.astype(int)\n",
    "for i in range(num_iterations):\n",
    "    loss = svm_loss(W, X_train, Y_train, C)\n",
    "    gradient = svm_gradient(W, X_train, Y_train, C)\n",
    "    W -= learning_rate * gradient\n",
    "\n",
    "    # Check for convergence\n",
    "    if i > 0 and abs(loss - svm_loss(W, X_train, Y_train, C)) < convergence_threshold:\n",
    "        break\n",
    "\n",
    "training_time = time.time() - start_time\n",
    "\n",
    "# SVM prediction on the test set\n",
    "scores = np.dot(X_test, W)\n",
    "Y_pred = np.argmax(scores, axis=1)\n",
    "\n",
    "# SVM prediction on the training set\n",
    "scores_train = np.dot(X_train, W)\n",
    "Y_pred_train = np.argmax(scores_train, axis=1)\n",
    "\n",
    "# Calculate test set accuracy\n",
    "test_accuracy = np.mean(Y_pred == Y_test)\n",
    "\n",
    "# Calculate training set accuracy\n",
    "train_accuracy = np.mean(Y_pred_train == Y_train)\n",
    "\n",
    "print(\"Training time:\", training_time, \"seconds\")\n",
    "print(\"Test accuracy:\", test_accuracy)\n",
    "print(\"Train accuracy:\", train_accuracy)"
   ]
  },
  {
   "cell_type": "code",
   "execution_count": null,
   "id": "7b3ac893",
   "metadata": {},
   "outputs": [],
   "source": []
  }
 ],
 "metadata": {
  "kernelspec": {
   "display_name": "Python 3",
   "language": "python",
   "name": "python3"
  },
  "language_info": {
   "codemirror_mode": {
    "name": "ipython",
    "version": 3
   },
   "file_extension": ".py",
   "mimetype": "text/x-python",
   "name": "python",
   "nbconvert_exporter": "python",
   "pygments_lexer": "ipython3",
   "version": "3.6.13"
  }
 },
 "nbformat": 4,
 "nbformat_minor": 5
}
