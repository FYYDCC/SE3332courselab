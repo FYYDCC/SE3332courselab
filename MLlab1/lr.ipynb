{
 "cells": [
  {
   "cell_type": "code",
   "execution_count": 2,
   "id": "7f03eec5",
   "metadata": {},
   "outputs": [],
   "source": [
    "import numpy as np\n",
    "import time"
   ]
  },
  {
   "cell_type": "code",
   "execution_count": 3,
   "id": "62a0eef3",
   "metadata": {},
   "outputs": [],
   "source": [
    "# Load your dataset\n",
    "X_train = np.loadtxt(\"C:/Users/86135/Desktop/MLlab1/lab1_dataset/lab1_dataset/X_train.csv\", delimiter=\",\",skiprows=1)\n",
    "X_test = np.loadtxt(\"C:/Users/86135/Desktop/MLlab1/lab1_dataset/lab1_dataset/X_test.csv\", delimiter=\",\",skiprows=1)\n",
    "Y_train = np.loadtxt(\"C:/Users/86135/Desktop/MLlab1/lab1_dataset/lab1_dataset/Y_train.csv\", delimiter=\",\",skiprows=1)\n",
    "Y_test = np.loadtxt(\"C:/Users/86135/Desktop/MLlab1/lab1_dataset/lab1_dataset/Y_test.csv\", delimiter=\",\",skiprows=1)"
   ]
  },
  {
   "cell_type": "code",
   "execution_count": 4,
   "id": "1a7d2551",
   "metadata": {},
   "outputs": [],
   "source": [
    "def scale_features(X):\n",
    "    mean = np.mean(X, axis=0)\n",
    "    std = np.std(X, axis=0)\n",
    "    X_scaled = (X - mean) / std\n",
    "    return X_scaled"
   ]
  },
  {
   "cell_type": "code",
   "execution_count": 5,
   "id": "20740a2a",
   "metadata": {},
   "outputs": [],
   "source": [
    "X_train = scale_features(X_train)\n",
    "X_test = scale_features(X_test)"
   ]
  },
  {
   "cell_type": "code",
   "execution_count": 6,
   "id": "53029d1a",
   "metadata": {},
   "outputs": [],
   "source": [
    "def sigmoid(z):\n",
    "    return 1 / (1 + np.exp(-z))"
   ]
  },
  {
   "cell_type": "code",
   "execution_count": 7,
   "id": "189fc22f",
   "metadata": {},
   "outputs": [],
   "source": [
    "def logistic_regression_gradient_descent(X, y, learning_rate, num_iterations, convergence_threshold):\n",
    "    m, n = X.shape\n",
    "    weights = np.zeros(n)\n",
    "    costs = []\n",
    "\n",
    "    for i in range(num_iterations):\n",
    "        z = np.dot(X, weights)\n",
    "        predictions = sigmoid(z)\n",
    "        gradient = np.dot(X.T, (predictions - y)) / m\n",
    "        weights -= learning_rate * gradient\n",
    "\n",
    "        cost = (-1/m) * np.sum(y * np.log(predictions) + (1 - y) * np.log(1 - predictions))\n",
    "        costs.append(cost)\n",
    "\n",
    "        # Check for convergence\n",
    "        if i > 0 and abs(costs[i] - costs[i-1]) < convergence_threshold:\n",
    "            break\n",
    "\n",
    "    return weights, costs"
   ]
  },
  {
   "cell_type": "code",
   "execution_count": 8,
   "id": "d8e29687",
   "metadata": {},
   "outputs": [
    {
     "name": "stdout",
     "output_type": "stream",
     "text": [
      "Training time: 1.4969432353973389 seconds\n",
      "Test accuracy: 0.905\n",
      "Train accuracy: 0.94\n"
     ]
    }
   ],
   "source": [
    "learning_rate = 0.065\n",
    "num_iterations = 5000\n",
    "convergence_threshold = 1e-8\n",
    "\n",
    "start_time = time.time()\n",
    "trained_weights, _ = logistic_regression_gradient_descent(X_train, Y_train, learning_rate, num_iterations, convergence_threshold)\n",
    "training_time = time.time() - start_time\n",
    "\n",
    "# Making predictions on the test set\n",
    "predictions = sigmoid(np.dot(X_test, trained_weights))\n",
    "Y_pred = (predictions >= 0.5).astype(int)\n",
    "\n",
    "# Calculate test set accuracy\n",
    "test_accuracy = np.mean(Y_pred == Y_test)\n",
    "\n",
    "# Making predictions on the training set\n",
    "predictions_train = sigmoid(np.dot(X_train, trained_weights))\n",
    "Y_pred_train = (predictions_train >= 0.5).astype(int)\n",
    "\n",
    "# Calculate training set accuracy\n",
    "train_accuracy = np.mean(Y_pred_train == Y_train)\n",
    "\n",
    "print(\"Training time:\", training_time, \"seconds\")\n",
    "print(\"Test accuracy:\", test_accuracy)\n",
    "print(\"Train accuracy:\", train_accuracy)"
   ]
  },
  {
   "cell_type": "code",
   "execution_count": null,
   "id": "4b72a49d",
   "metadata": {},
   "outputs": [],
   "source": []
  }
 ],
 "metadata": {
  "kernelspec": {
   "display_name": "Python 3",
   "language": "python",
   "name": "python3"
  },
  "language_info": {
   "codemirror_mode": {
    "name": "ipython",
    "version": 3
   },
   "file_extension": ".py",
   "mimetype": "text/x-python",
   "name": "python",
   "nbconvert_exporter": "python",
   "pygments_lexer": "ipython3",
   "version": "3.6.13"
  }
 },
 "nbformat": 4,
 "nbformat_minor": 5
}
